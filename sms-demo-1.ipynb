{
 "cells": [
  {
   "cell_type": "markdown",
   "id": "8de816bb-94df-442e-b396-486a639e2e00",
   "metadata": {},
   "source": [
    "# How to manage a simple SMS campaign using the OVHcloud SMS API\n",
    "- We are using routes described in https://api.ovh.com/console/#/sms\n",
    "- SMS documentation: https://docs.ovh.com/gb/en/sms/"
   ]
  },
  {
   "cell_type": "markdown",
   "id": "e27ee7e5-aced-4154-95ef-a63218ff9568",
   "metadata": {},
   "source": [
    "#### 1. Loading the credentials\n",
    "- Visit https://api.ovh.com/createToken/?GET=/sms/*&POST=/sms/*&PUT=/sms/*&DELETE=/sms/*&GET=/sms to get your credentials.\n",
    "  - You can restrict the patterns according your needs"
   ]
  },
  {
   "cell_type": "code",
   "execution_count": null,
   "id": "08531857-72a9-4c19-b129-414cc29484d6",
   "metadata": {},
   "outputs": [],
   "source": [
    "# -*- encoding: utf-8 -*-\n",
    "\n",
    "import yaml\n",
    "\n",
    "# application_key: xxxx\n",
    "# application_secret: xxxx\n",
    "# consumer_key: xxxx\n",
    "#\n",
    "with open(\"credentials.yml\", 'r') as file:\n",
    "    credentials = yaml.safe_load(file)"
   ]
  },
  {
   "cell_type": "markdown",
   "id": "ab499fbf-4a3e-41d3-9e70-17cdd98e69b3",
   "metadata": {
    "tags": []
   },
   "source": [
    "#### 2. Authenticating to the API\n",
    "- We are using the SDK: https://github.com/ovh/python-ovh"
   ]
  },
  {
   "cell_type": "code",
   "execution_count": null,
   "id": "d5d5651f-13bd-4bd2-8039-08dd367516b4",
   "metadata": {},
   "outputs": [],
   "source": [
    "import ovh\n",
    "\n",
    "client = ovh.Client(\n",
    "    endpoint='ovh-eu',\n",
    "    application_key=credentials[\"application_key\"],\n",
    "    application_secret=credentials[\"application_secret\"],\n",
    "    consumer_key=credentials[\"consumer_key\"],\n",
    ")"
   ]
  },
  {
   "cell_type": "markdown",
   "id": "eb20d6e3-cb44-43e3-ae5d-b92f1b59615c",
   "metadata": {},
   "source": [
    "#### 3. Getting your account\n",
    "https://api.ovh.com/console/#/sms#GET"
   ]
  },
  {
   "cell_type": "code",
   "execution_count": null,
   "id": "e8cac646-a403-4bb1-a0ab-0b88d67c5472",
   "metadata": {},
   "outputs": [],
   "source": [
    "# List your SMS accounts\n",
    "service_names = client.get('/sms')\n",
    "\n",
    "# Use the first SMS account\n",
    "service_name = service_names[0] # e.g. sms-ab987654-1"
   ]
  },
  {
   "cell_type": "markdown",
   "id": "a1dc2bdf-3b4d-470d-8f10-10d632f708e6",
   "metadata": {},
   "source": [
    "#### 4. Create the campaign\n",
    "https://api.ovh.com/console/#/sms/%7BserviceName%7D/batches#POST\n",
    "- `from` is the sender linked to your account\n",
    "  - It can be a E.164 virtual number or an alphanumeric name\n",
    "  - You can go to your control panel https://www.ovh.com/auth/ to manage your virtual numbers and senders\n",
    "  - https://docs.ovh.com/gb/en/sms/launch_first_sms_campaign/#step-2-create-a-sender_1\n",
    "- `to` is a list of E.164 number recipents\n",
    "- `message` is the message sent to each receivers using `GSM-7`/`GSM 03.38` charset\n",
    "- `noStop` tells if each sent SMS should NOT have a stop clause\n",
    "  - The clause is appended to the message by our backend\n",
    "  - The stop clause is **mandatory** for marketing campaigns\n",
    "  - e.g. `STOP 36184` preceded by a newline character"
   ]
  },
  {
   "cell_type": "code",
   "execution_count": null,
   "id": "f7561be1-f3b3-4489-a171-6269e5856e7b",
   "metadata": {},
   "outputs": [],
   "source": [
    "import json\n",
    "\n",
    "campaign_name = \"SMS BlackFriday promotions\"\n",
    "\n",
    "params = {\n",
    "    \"name\":     campaign_name,\n",
    "    \"from\":     \"+33700000002\",\n",
    "    \"to\":       [\"+33600000001\"],\n",
    "    \"message\":  \"SMS promotions, -13% on each packs\",\n",
    "    \"noStop\":   False, #optional\n",
    "}\n",
    "\n",
    "batch = client.post('/sms/%s/batches' % (service_name), **params)\n",
    "\n",
    "# Display the created batch\n",
    "print(json.dumps(batch, indent=2, sort_keys=True))"
   ]
  },
  {
   "cell_type": "markdown",
   "id": "395d396e-61fd-4f02-aef5-0bbf95c6b77b",
   "metadata": {},
   "source": [
    "#### 5. Waiting for batch completion\n",
    "https://api.ovh.com/console/#/sms/%7BserviceName%7D/batches/%7Bid%7D#GET"
   ]
  },
  {
   "cell_type": "code",
   "execution_count": null,
   "id": "6e9c729d-65a0-471f-bb06-58f8f42dc3eb",
   "metadata": {},
   "outputs": [],
   "source": [
    "import time\n",
    "\n",
    "batch_id = batch[\"id\"]\n",
    "last_status = batch[\"status\"]\n",
    "\n",
    "while True:\n",
    "    batch = client.get('/sms/%s/batches/%s' % (service_name, batch_id))\n",
    "    if batch[\"status\"] == \"COMPLETED\":\n",
    "        print(\"The batch is completed\")\n",
    "        break\n",
    "    if batch[\"status\"] == \"FAILED\":\n",
    "        print(\"The batch is failed\")\n",
    "        break\n",
    "\n",
    "    if batch[\"status\"] != last_status:\n",
    "        print(\"Status: %s\" % batch[\"status\"])\n",
    "        last_status = batch[\"status\"]\n",
    "\n",
    "    print(\".\", end=\"\")\n",
    "    time.sleep(10) # wait 10s"
   ]
  },
  {
   "cell_type": "markdown",
   "id": "0523800e-49e1-478d-b672-e52f13d6a9fb",
   "metadata": {},
   "source": [
    "#### 6. Show completed batch"
   ]
  },
  {
   "cell_type": "code",
   "execution_count": null,
   "id": "d524b1ca-a1c1-4b78-a329-e759e1b2a1cb",
   "metadata": {},
   "outputs": [],
   "source": [
    "if len(batch[\"errors\"]) == 0:\n",
    "    print(\"No errors on receivers during the processing of the batch.\\n\")\n",
    "else:\n",
    "    print(\"The following receivers have not been processed:\")\n",
    "    for error in batch[\"errors\"]:\n",
    "        print(\"%s: %s\" % (error[\"receiver\"], error[\"message\"]))\n",
    "\n",
    "\n",
    "\n",
    "print(json.dumps(batch, indent=2, sort_keys=True))"
   ]
  },
  {
   "cell_type": "markdown",
   "id": "64838546-0234-4e78-9370-ebbb27504a64",
   "metadata": {},
   "source": [
    "#### 7. Get campaign statistics\n",
    "https://api.ovh.com/console/#/sms/%7BserviceName%7D/batches/%7Bid%7D/statistics#GET"
   ]
  },
  {
   "cell_type": "code",
   "execution_count": null,
   "id": "4fa148c5-8f40-4280-819d-4f77ec1c7bb8",
   "metadata": {},
   "outputs": [],
   "source": [
    "statistics = client.get('/sms/%s/batches/%s/statistics' % (service_name, batch_id))\n",
    "\n",
    "print(\"Estimated credits:                                 %s\" % statistics[\"estimatedCredits\"])\n",
    "print(\"Used credits:                                      %s\" % statistics[\"credits\"])\n",
    "print(\"Number of SMS discarded during the processing:     %d\" % len(batch[\"errors\"]))\n",
    "print(\"Number of pending SMS:                             %d\" % statistics[\"pending\"])\n",
    "print(\"Number of sent SMS:                                %d\" % statistics[\"sent\"])\n",
    "print(\"Number of delivered SMS to receivers:              %d\" % statistics[\"delivered\"])\n",
    "print(\"Number of not delivered SMS to receivers:          %d\" % statistics[\"failed\"])\n",
    "print(\"Number of SMS that received a STOP from receivers: %d\" % statistics[\"stoplisted\"])\n"
   ]
  },
  {
   "cell_type": "markdown",
   "id": "148772da-54d4-4c79-863e-472de352150b",
   "metadata": {},
   "source": [
    "#### 8. To go furthermore, you can download a CSV containing all the details about the SMS sent.\n",
    "- Ask the export using https://api.ovh.com/console/#/sms/%7BserviceName%7D/document#GET\n",
    "  - You must fill the `batchID` filter\n",
    "  - From the response you get the document ID\n",
    "- Get your document on https://api.ovh.com/console/#/me/document/%7Bid%7D#GET\n",
    "  - Poll the document every 5s until the size is greater than 0\n",
    "  - Then download the CSV using the `getUrl` from the response\n",
    "\n",
    "File content example:\n",
    "```\n",
    "id;date;sender;receiver;ptt;operatorCode;descriptionDlr;tag;message;sentAt;deliveredAt\n",
    "10000065;2021-09-28 15:57:30;\"+337xxxxxxxx\";+336xxxxxxxx;0;20815;\"Success\";\"\";\"SMS promotions, -13% on each packs\n",
    "STOP 36184\";2021-09-28 15:57:32;2021-09-28 15:57:37\n",
    "```"
   ]
  }
 ],
 "metadata": {
  "kernelspec": {
   "display_name": "Python 3 (ipykernel)",
   "language": "python",
   "name": "python3"
  },
  "language_info": {
   "codemirror_mode": {
    "name": "ipython",
    "version": 3
   },
   "file_extension": ".py",
   "mimetype": "text/x-python",
   "name": "python",
   "nbconvert_exporter": "python",
   "pygments_lexer": "ipython3",
   "version": "3.9.6"
  }
 },
 "nbformat": 4,
 "nbformat_minor": 5
}
