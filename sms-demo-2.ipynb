{
 "cells": [
  {
   "cell_type": "markdown",
   "id": "8de816bb-94df-442e-b396-486a639e2e00",
   "metadata": {},
   "source": [
    "# How to manage a customized SMS campaign using the OVHcloud SMS API\n",
    "- We are using routes described in https://api.ovh.com/console/#/sms\n",
    "- SMS documentation: https://docs.ovh.com/gb/en/sms/"
   ]
  },
  {
   "cell_type": "markdown",
   "id": "e27ee7e5-aced-4154-95ef-a63218ff9568",
   "metadata": {
    "tags": []
   },
   "source": [
    "#### 1. Loading the credentials\n",
    "- Visit https://api.ovh.com/createToken/?POST=/me/*&PUT=/me/*&GET=/me/*&GET=/sms/*&POST=/sms/*&PUT=/sms/*&DELETE=/sms/*&GET=/sms to get your credentials.\n",
    "  - You can restrict the patterns according your needs"
   ]
  },
  {
   "cell_type": "code",
   "execution_count": null,
   "id": "08531857-72a9-4c19-b129-414cc29484d6",
   "metadata": {},
   "outputs": [],
   "source": [
    "# -*- encoding: utf-8 -*-\n",
    "\n",
    "import yaml\n",
    "\n",
    "# application_key: xxxx\n",
    "# application_secret: xxxx\n",
    "# consumer_key: xxxx\n",
    "#\n",
    "with open(\"credentials.yml\", 'r') as file:\n",
    "    credentials = yaml.safe_load(file)"
   ]
  },
  {
   "cell_type": "markdown",
   "id": "ab499fbf-4a3e-41d3-9e70-17cdd98e69b3",
   "metadata": {
    "tags": []
   },
   "source": [
    "#### 2. Authenticating to the API\n",
    "- We are using the SDK: https://github.com/ovh/python-ovh"
   ]
  },
  {
   "cell_type": "code",
   "execution_count": null,
   "id": "d5d5651f-13bd-4bd2-8039-08dd367516b4",
   "metadata": {},
   "outputs": [],
   "source": [
    "import ovh\n",
    "\n",
    "client = ovh.Client(\n",
    "    endpoint='ovh-eu',\n",
    "    application_key=credentials[\"application_key\"],\n",
    "    application_secret=credentials[\"application_secret\"],\n",
    "    consumer_key=credentials[\"consumer_key\"],\n",
    ")"
   ]
  },
  {
   "cell_type": "markdown",
   "id": "73e8f6c6-b83a-4595-aae6-51b8aca742da",
   "metadata": {},
   "source": [
    "#### 3. Getting your account\n",
    "https://api.ovh.com/console/#/sms#GET"
   ]
  },
  {
   "cell_type": "code",
   "execution_count": null,
   "id": "f8dd9965-6cde-4c6e-9f1a-f3896edae0ac",
   "metadata": {},
   "outputs": [],
   "source": [
    "# List your accounts\n",
    "service_names = client.get('/sms')\n",
    "\n",
    "# Use the first account\n",
    "service_name = service_names[0] # e.g. sms-ab987654-1"
   ]
  },
  {
   "cell_type": "markdown",
   "id": "86946bb9-d62b-4d06-938b-33271ab428e6",
   "metadata": {},
   "source": [
    "#### 4. Create a document used to upload your CSV\n",
    "https://api.ovh.com/console/#/me/document#POST"
   ]
  },
  {
   "cell_type": "code",
   "execution_count": null,
   "id": "e377711f-0316-41bf-bed1-0d5307781941",
   "metadata": {},
   "outputs": [],
   "source": [
    "campaign_name = \"SMS BlackFriday promotions\"\n",
    "filename = \"blackfriday.csv\"\n",
    "\n",
    "document = client.post('/me/document',\n",
    "    name=filename,\n",
    "    tags=[ #optional: you can set tags=None\n",
    "        {\n",
    "            \"key\": \"sms_account\",\n",
    "            \"value\": service_name,\n",
    "        },\n",
    "        {\n",
    "            \n",
    "            \"key\": \"sms_campaign\",\n",
    "            \"value\": campaign_name,\n",
    "        },\n",
    "    ],\n",
    ")\n",
    "\n",
    "document_id = document[\"id\"]\n",
    "print(\"Document created with id %s\" % document_id)"
   ]
  },
  {
   "cell_type": "markdown",
   "id": "b6739f91-4630-4ed5-aa49-8ff56e72e9fc",
   "metadata": {},
   "source": [
    "#### 5. Set the expiration of the document\n",
    "The CSV will be copied during the receivers resource creation in the next steps so it can be auto-removed after 24h.\n",
    "\n",
    "https://api.ovh.com/console/#/me/document/%7Bid%7D#PUT"
   ]
  },
  {
   "cell_type": "code",
   "execution_count": null,
   "id": "be951ec4-ba58-4dc4-b248-18f019cb91d4",
   "metadata": {},
   "outputs": [],
   "source": [
    "# Set expiration of the document since it will copied during the receivers resource creation\n",
    "from datetime import datetime\n",
    "from datetime import timedelta\n",
    "from datetime import timezone\n",
    "\n",
    "expiration_date = datetime.now(timezone.utc) + timedelta(days=1)\n",
    "\n",
    "params = {\n",
    "    \"expirationDate\": expiration_date.astimezone().isoformat(),\n",
    "}\n",
    "\n",
    "client.put('/me/document/%s' % document_id, **params)"
   ]
  },
  {
   "cell_type": "markdown",
   "id": "2bfb52fa-d7ba-4386-8b3b-23c64ee43bbc",
   "metadata": {},
   "source": [
    "#### 6. Upload the CSV\n",
    "We are using the PUT URL from the created document."
   ]
  },
  {
   "cell_type": "code",
   "execution_count": null,
   "id": "bdf06ca6-93cd-440e-9f0a-dbf67e3dd19f",
   "metadata": {},
   "outputs": [],
   "source": [
    "import requests\n",
    "\n",
    "url = document[\"putUrl\"]\n",
    "\n",
    "with open(filename) as f:\n",
    "    content = f.read()\n",
    "\n",
    "response = requests.put(url, data = content)\n",
    "if not response.ok:\n",
    "    print(response.text)\n"
   ]
  },
  {
   "cell_type": "markdown",
   "id": "c53c23cf-a311-4011-b38d-ab956dd4002e",
   "metadata": {},
   "source": [
    "#### 7. Create a receivers from the previous document\n",
    "https://api.ovh.com/console/#/sms/%7BserviceName%7D/receivers#POST\n",
    "\n",
    "- This action performs checks on the input CSV:\n",
    "  - Checks the CSV is encoded in UTF-8\n",
    "  - Checks the `number` colunm contains E.164 numbers\n",
    "  - Checks the custom colunms' texts are compatible with the `GSM-7`/`GSM 03.38` charset\n",
    "  - etc.\n",
    "- Then the CSV is copied to the slot ID in your SMS space"
   ]
  },
  {
   "cell_type": "code",
   "execution_count": null,
   "id": "542699d6-83d9-4c66-800b-278034542c4e",
   "metadata": {},
   "outputs": [],
   "source": [
    "import json\n",
    "\n",
    "receivers = client.post('/sms/%s/receivers' % service_name,\n",
    "    autoUpdate=False,\n",
    "    description=campaign_name,\n",
    "    documentId=document_id,\n",
    "    slotId=1,\n",
    ")\n",
    "\n",
    "print(json.dumps(receivers, indent=2, sort_keys=True))"
   ]
  },
  {
   "cell_type": "markdown",
   "id": "208cd13d-e343-4415-8e19-43c68a58a53a",
   "metadata": {},
   "source": [
    "#### 8. Create the campaign\n",
    "https://api.ovh.com/console/#/sms/%7BserviceName%7D/batches#POST\n",
    "- `from` is the sender linked to your account\n",
    "  - It can be a E.164 virtual number or an alphanumeric name\n",
    "  - You can go to your control panel https://www.ovh.com/auth/ to manage your virtual numbers and senders\n",
    "- `slotID` is the slot ID from the `receivers` object\n",
    "- `message` is the template message sent to each receivers using `GSM-7`/`GSM 03.38` charset\n",
    "  - The text substitution is done by defining the column name surrounded by the `#` character (e.g. `#name#`)\n",
    "- `noStop` tells if each sent SMS should NOT have a stop clause\n",
    "  - The clause is appended to the message by our backend\n",
    "  - The stop clause is **mandatory** for marketing campaigns\n",
    "  - e.g. `STOP 36184` preceded by a newline character"
   ]
  },
  {
   "cell_type": "code",
   "execution_count": null,
   "id": "7f1239eb-ddf1-4a8d-ab8c-f02aabbc556f",
   "metadata": {},
   "outputs": [],
   "source": [
    "params = {\n",
    "    \"name\":     campaign_name,\n",
    "    \"from\":     \"+33700000001\",\n",
    "    \"slotID\":   str(receivers[\"slotId\"]),\n",
    "    \"message\":  \"#name# here is your redeem code #redeem_code# for SMS packs\",\n",
    "    \"noStop\":   False,\n",
    "}\n",
    "\n",
    "batch = client.post('/sms/%s/batches' % (service_name), **params)\n",
    "\n",
    "# Display the created batch\n",
    "print(json.dumps(batch, indent=2, sort_keys=True))"
   ]
  },
  {
   "cell_type": "markdown",
   "id": "96e6611c-0761-4c3f-8976-6bc4a0135d29",
   "metadata": {},
   "source": [
    "#### 9. Waiting for batch completion\n",
    "https://api.ovh.com/console/#/sms/%7BserviceName%7D/batches/%7Bid%7D#GET"
   ]
  },
  {
   "cell_type": "code",
   "execution_count": null,
   "id": "fbea7788-4f28-4ddc-86a4-e0151a5f1d13",
   "metadata": {},
   "outputs": [],
   "source": [
    "import time\n",
    "\n",
    "batch_id = batch[\"id\"]\n",
    "last_status = batch[\"status\"]\n",
    "\n",
    "while True:\n",
    "    batch = client.get('/sms/%s/batches/%s' % (service_name, batch_id))\n",
    "    if batch[\"status\"] == \"COMPLETED\":\n",
    "        print(\"The batch is completed\")\n",
    "        break\n",
    "    if batch[\"status\"] == \"FAILED\":\n",
    "        print(\"The batch is failed\")\n",
    "        break\n",
    "\n",
    "    if batch[\"status\"] != last_status:\n",
    "        print(\"Status: %s\" % batch[\"status\"])\n",
    "        last_status = batch[\"status\"]\n",
    "\n",
    "    print(\".\", end=\"\")\n",
    "    time.sleep(10) # wait 10s"
   ]
  },
  {
   "cell_type": "markdown",
   "id": "51f4251c-8c45-457c-9c1c-d3028bf178ba",
   "metadata": {},
   "source": [
    "#### 10. Show completed batch"
   ]
  },
  {
   "cell_type": "code",
   "execution_count": null,
   "id": "a18ae04f-e76a-4a42-81db-b34f5e23d5b6",
   "metadata": {},
   "outputs": [],
   "source": [
    "if len(batch[\"errors\"]) == 0:\n",
    "    print(\"No errors on receivers during the processing of the batch.\")\n",
    "else:\n",
    "    print(\"The following receivers have not been processed:\")\n",
    "    for error in batch[\"errors\"]:\n",
    "        print(\"%s: %s\" % (error[\"receiver\"], error[\"message\"]))\n",
    "\n",
    "\n",
    "\n",
    "print(json.dumps(batch, indent=2, sort_keys=True))"
   ]
  },
  {
   "cell_type": "markdown",
   "id": "932f9ddd-3aea-4b28-a88a-425b2297a97d",
   "metadata": {},
   "source": [
    "#### 11. Get campaign statistics\n",
    "https://api.ovh.com/console/#/sms/%7BserviceName%7D/batches/%7Bid%7D/statistics#GET"
   ]
  },
  {
   "cell_type": "code",
   "execution_count": null,
   "id": "a24dbc00-344e-46aa-b78b-8f4d9b390d17",
   "metadata": {},
   "outputs": [],
   "source": [
    "statistics = client.get('/sms/%s/batches/%s/statistics' % (service_name, batch_id))\n",
    "\n",
    "print(\"Estimated credits:                                 %s\" % statistics[\"estimatedCredits\"])\n",
    "print(\"Used credits:                                      %s\" % statistics[\"credits\"])\n",
    "print(\"Number of SMS discarded during the processing:     %d\" % len(batch[\"errors\"]))\n",
    "print(\"Number of pending SMS:                             %d\" % statistics[\"pending\"])\n",
    "print(\"Number of sent SMS:                                %d\" % statistics[\"sent\"])\n",
    "print(\"Number of delivered SMS to receivers:              %d\" % statistics[\"delivered\"])\n",
    "print(\"Number of not delivered SMS to receivers:          %d\" % statistics[\"failed\"])\n",
    "print(\"Number of SMS that received a STOP from receivers: %d\" % statistics[\"stoplisted\"])"
   ]
  },
  {
   "cell_type": "markdown",
   "id": "89d29de4-9cde-4c12-9170-aa9838ff17ac",
   "metadata": {},
   "source": [
    "#### 12. To go furthermore, you can download a CSV containing all the details about the SMS sent.\n",
    "- Ask the export using https://api.ovh.com/console/#/sms/%7BserviceName%7D/document#GET\n",
    "  - You must fill the `batchID` filter\n",
    "  - From the response you get the document ID\n",
    "- Get your document on https://api.ovh.com/console/#/me/document/%7Bid%7D#GET\n",
    "  - Poll the document every 5s until the size is greater than 0\n",
    "  - Then download the CSV using the `getUrl` from the response\n",
    "\n",
    "File content example:\n",
    "```\n",
    "id;date;sender;receiver;ptt;operatorCode;descriptionDlr;tag;message;sentAt;deliveredAt\n",
    "10000066;2021-09-28 16:16:53;\"+337xxxxxxxx\";+336xxxxxxxx;0;20815;\"Success\";\"\";\"John Doe here is your redeem code 1WzEys8BYDK for SMS packs\n",
    "STOP 36184\";2021-09-28 16:16:54;2021-09-28 16:17\n",
    "```"
   ]
  }
 ],
 "metadata": {
  "kernelspec": {
   "display_name": "Python 3 (ipykernel)",
   "language": "python",
   "name": "python3"
  },
  "language_info": {
   "codemirror_mode": {
    "name": "ipython",
    "version": 3
   },
   "file_extension": ".py",
   "mimetype": "text/x-python",
   "name": "python",
   "nbconvert_exporter": "python",
   "pygments_lexer": "ipython3",
   "version": "3.9.6"
  }
 },
 "nbformat": 4,
 "nbformat_minor": 5
}
